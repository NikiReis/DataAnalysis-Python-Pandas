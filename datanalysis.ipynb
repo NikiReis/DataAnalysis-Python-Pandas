{
  "nbformat": 4,
  "nbformat_minor": 0,
  "metadata": {
    "colab": {
      "provenance": []
    },
    "kernelspec": {
      "name": "python3",
      "display_name": "Python 3"
    },
    "language_info": {
      "name": "python"
    }
  },
  "cells": [
    {
      "cell_type": "markdown",
      "source": [
        "# **Introdução à Biblioteca Pandas**\n",
        "## **Python Para Análise de Dados (Pandas)**"
      ],
      "metadata": {
        "id": "Y-KAGiUPAwL6"
      }
    },
    {
      "cell_type": "code",
      "source": [],
      "metadata": {
        "id": "MOcmP060B0Uh"
      },
      "execution_count": null,
      "outputs": []
    },
    {
      "cell_type": "code",
      "execution_count": null,
      "metadata": {
        "id": "6lt2ksJcAuyI"
      },
      "outputs": [],
      "source": []
    }
  ]
}